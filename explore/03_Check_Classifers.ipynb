{
 "cells": [
  {
   "cell_type": "markdown",
   "id": "1aa9d59b",
   "metadata": {},
   "source": [
    "# Classification algorithm exploration"
   ]
  },
  {
   "cell_type": "code",
   "execution_count": 9,
   "id": "97698af1",
   "metadata": {},
   "outputs": [
    {
     "name": "stdout",
     "output_type": "stream",
     "text": [
      "The autoreload extension is already loaded. To reload it, use:\n",
      "  %reload_ext autoreload\n"
     ]
    }
   ],
   "source": [
    "%load_ext autoreload\n",
    "%autoreload 2\n",
    "import sys  \n",
    "\n",
    "\n",
    "import matplotlib.pyplot as plt\n",
    "sys.path.insert(0, 'D:/code/creon') #change to the root folder of this project\n",
    "import prepare_data, test_classifiers"
   ]
  },
  {
   "cell_type": "code",
   "execution_count": 17,
   "id": "1ffa80eb",
   "metadata": {},
   "outputs": [
    {
     "name": "stdout",
     "output_type": "stream",
     "text": [
      "data cleaning done\n"
     ]
    }
   ],
   "source": [
    "path =r\"D:\\assigments\\2023_06_30_creon\\Employee-attrition.csv\" #change this to the location of your input file\n",
    "\n",
    "t = test_classifiers.TrainClassifiers(path)"
   ]
  },
  {
   "cell_type": "code",
   "execution_count": 24,
   "id": "bd6500f9",
   "metadata": {},
   "outputs": [
    {
     "name": "stderr",
     "output_type": "stream",
     "text": [
      "C:\\ProgramData\\Anaconda3\\lib\\site-packages\\sklearn\\metrics\\_classification.py:1318: UndefinedMetricWarning: Precision is ill-defined and being set to 0.0 due to no predicted samples. Use `zero_division` parameter to control this behavior.\n",
      "  _warn_prf(average, modifier, msg_start, len(result))\n"
     ]
    }
   ],
   "source": [
    "results = t.run_classifiers(False)"
   ]
  },
  {
   "cell_type": "code",
   "execution_count": 43,
   "id": "bc98224f",
   "metadata": {},
   "outputs": [
    {
     "data": {
      "text/html": [
       "<div>\n",
       "<style scoped>\n",
       "    .dataframe tbody tr th:only-of-type {\n",
       "        vertical-align: middle;\n",
       "    }\n",
       "\n",
       "    .dataframe tbody tr th {\n",
       "        vertical-align: top;\n",
       "    }\n",
       "\n",
       "    .dataframe thead th {\n",
       "        text-align: right;\n",
       "    }\n",
       "</style>\n",
       "<table border=\"1\" class=\"dataframe\">\n",
       "  <thead>\n",
       "    <tr style=\"text-align: right;\">\n",
       "      <th></th>\n",
       "      <th>name</th>\n",
       "      <th>tn</th>\n",
       "      <th>fp</th>\n",
       "      <th>fn</th>\n",
       "      <th>tp</th>\n",
       "      <th>recall</th>\n",
       "      <th>precision</th>\n",
       "      <th>f1</th>\n",
       "      <th>matthews_corr</th>\n",
       "      <th>cohen_kappa</th>\n",
       "    </tr>\n",
       "  </thead>\n",
       "  <tbody>\n",
       "    <tr>\n",
       "      <th>0</th>\n",
       "      <td>Nearest Neighbors</td>\n",
       "      <td>396</td>\n",
       "      <td>20</td>\n",
       "      <td>57</td>\n",
       "      <td>13</td>\n",
       "      <td>0.185714</td>\n",
       "      <td>0.393939</td>\n",
       "      <td>0.252427</td>\n",
       "      <td>0.192099</td>\n",
       "      <td>0.176416</td>\n",
       "    </tr>\n",
       "    <tr>\n",
       "      <th>1</th>\n",
       "      <td>Linear SVM</td>\n",
       "      <td>416</td>\n",
       "      <td>0</td>\n",
       "      <td>70</td>\n",
       "      <td>0</td>\n",
       "      <td>0.000000</td>\n",
       "      <td>0.000000</td>\n",
       "      <td>0.000000</td>\n",
       "      <td>0.000000</td>\n",
       "      <td>0.000000</td>\n",
       "    </tr>\n",
       "    <tr>\n",
       "      <th>2</th>\n",
       "      <td>RBF SVM</td>\n",
       "      <td>416</td>\n",
       "      <td>0</td>\n",
       "      <td>69</td>\n",
       "      <td>1</td>\n",
       "      <td>0.014286</td>\n",
       "      <td>1.000000</td>\n",
       "      <td>0.028169</td>\n",
       "      <td>0.110695</td>\n",
       "      <td>0.024210</td>\n",
       "    </tr>\n",
       "    <tr>\n",
       "      <th>3</th>\n",
       "      <td>Gaussian Process</td>\n",
       "      <td>412</td>\n",
       "      <td>4</td>\n",
       "      <td>57</td>\n",
       "      <td>13</td>\n",
       "      <td>0.185714</td>\n",
       "      <td>0.764706</td>\n",
       "      <td>0.298851</td>\n",
       "      <td>0.336544</td>\n",
       "      <td>0.257030</td>\n",
       "    </tr>\n",
       "    <tr>\n",
       "      <th>4</th>\n",
       "      <td>Decision Tree</td>\n",
       "      <td>405</td>\n",
       "      <td>11</td>\n",
       "      <td>52</td>\n",
       "      <td>18</td>\n",
       "      <td>0.257143</td>\n",
       "      <td>0.620690</td>\n",
       "      <td>0.363636</td>\n",
       "      <td>0.341969</td>\n",
       "      <td>0.304989</td>\n",
       "    </tr>\n",
       "    <tr>\n",
       "      <th>5</th>\n",
       "      <td>Random Forest</td>\n",
       "      <td>416</td>\n",
       "      <td>0</td>\n",
       "      <td>65</td>\n",
       "      <td>5</td>\n",
       "      <td>0.071429</td>\n",
       "      <td>1.000000</td>\n",
       "      <td>0.133333</td>\n",
       "      <td>0.248548</td>\n",
       "      <td>0.116364</td>\n",
       "    </tr>\n",
       "    <tr>\n",
       "      <th>6</th>\n",
       "      <td>Neural Net</td>\n",
       "      <td>410</td>\n",
       "      <td>6</td>\n",
       "      <td>48</td>\n",
       "      <td>22</td>\n",
       "      <td>0.314286</td>\n",
       "      <td>0.785714</td>\n",
       "      <td>0.448980</td>\n",
       "      <td>0.451862</td>\n",
       "      <td>0.399561</td>\n",
       "    </tr>\n",
       "    <tr>\n",
       "      <th>7</th>\n",
       "      <td>AdaBoost</td>\n",
       "      <td>398</td>\n",
       "      <td>18</td>\n",
       "      <td>47</td>\n",
       "      <td>23</td>\n",
       "      <td>0.328571</td>\n",
       "      <td>0.560976</td>\n",
       "      <td>0.414414</td>\n",
       "      <td>0.360437</td>\n",
       "      <td>0.344687</td>\n",
       "    </tr>\n",
       "    <tr>\n",
       "      <th>8</th>\n",
       "      <td>Naive Bayes</td>\n",
       "      <td>336</td>\n",
       "      <td>80</td>\n",
       "      <td>32</td>\n",
       "      <td>38</td>\n",
       "      <td>0.542857</td>\n",
       "      <td>0.322034</td>\n",
       "      <td>0.404255</td>\n",
       "      <td>0.287065</td>\n",
       "      <td>0.272766</td>\n",
       "    </tr>\n",
       "    <tr>\n",
       "      <th>9</th>\n",
       "      <td>QDA</td>\n",
       "      <td>376</td>\n",
       "      <td>40</td>\n",
       "      <td>43</td>\n",
       "      <td>27</td>\n",
       "      <td>0.385714</td>\n",
       "      <td>0.402985</td>\n",
       "      <td>0.394161</td>\n",
       "      <td>0.294911</td>\n",
       "      <td>0.294815</td>\n",
       "    </tr>\n",
       "  </tbody>\n",
       "</table>\n",
       "</div>"
      ],
      "text/plain": [
       "                name   tn  fp  fn  tp    recall  precision        f1  \\\n",
       "0  Nearest Neighbors  396  20  57  13  0.185714   0.393939  0.252427   \n",
       "1         Linear SVM  416   0  70   0  0.000000   0.000000  0.000000   \n",
       "2            RBF SVM  416   0  69   1  0.014286   1.000000  0.028169   \n",
       "3   Gaussian Process  412   4  57  13  0.185714   0.764706  0.298851   \n",
       "4      Decision Tree  405  11  52  18  0.257143   0.620690  0.363636   \n",
       "5      Random Forest  416   0  65   5  0.071429   1.000000  0.133333   \n",
       "6         Neural Net  410   6  48  22  0.314286   0.785714  0.448980   \n",
       "7           AdaBoost  398  18  47  23  0.328571   0.560976  0.414414   \n",
       "8        Naive Bayes  336  80  32  38  0.542857   0.322034  0.404255   \n",
       "9                QDA  376  40  43  27  0.385714   0.402985  0.394161   \n",
       "\n",
       "   matthews_corr  cohen_kappa  \n",
       "0       0.192099     0.176416  \n",
       "1       0.000000     0.000000  \n",
       "2       0.110695     0.024210  \n",
       "3       0.336544     0.257030  \n",
       "4       0.341969     0.304989  \n",
       "5       0.248548     0.116364  \n",
       "6       0.451862     0.399561  \n",
       "7       0.360437     0.344687  \n",
       "8       0.287065     0.272766  \n",
       "9       0.294911     0.294815  "
      ]
     },
     "execution_count": 43,
     "metadata": {},
     "output_type": "execute_result"
    }
   ],
   "source": [
    "results\n"
   ]
  },
  {
   "cell_type": "code",
   "execution_count": 44,
   "id": "2f88857e",
   "metadata": {},
   "outputs": [
    {
     "data": {
      "image/png": "[encoded data removed]",
      "text/plain": [
       "<Figure size 432x288 with 1 Axes>"
      ]
     },
     "metadata": {
      "needs_background": "light"
     },
     "output_type": "display_data"
    }
   ],
   "source": [
    "ax = results.plot.bar(y=['f1', 'precision', 'recall'], x='name', rot=0)\n",
    "\n",
    "plt.title('f1 score, precision and recall')\n",
    "plt.xticks(rotation = 90)\n",
    "\n",
    "plt.show()"
   ]
  },
  {
   "cell_type": "code",
   "execution_count": 45,
   "id": "c768be3d",
   "metadata": {},
   "outputs": [
    {
     "data": {
      "image/png": "[encoded data removed]",
      "text/plain": [
       "<Figure size 432x288 with 1 Axes>"
      ]
     },
     "metadata": {
      "needs_background": "light"
     },
     "output_type": "display_data"
    }
   ],
   "source": [
    "ax = results.plot.bar(y=['matthews_corr', 'cohen_kappa'], x='name', rot=0)\n",
    "\n",
    "plt.title('matthews_corr and cohen_kappa')\n",
    "plt.xticks(rotation = 90)\n",
    "\n",
    "plt.show()\n",
    "\n"
   ]
  },
  {
   "cell_type": "code",
   "execution_count": null,
   "id": "8140346e",
   "metadata": {},
   "outputs": [],
   "source": []
  }
 ],
 "metadata": {
  "kernelspec": {
   "display_name": "Python 3 (ipykernel)",
   "language": "python",
   "name": "python3"
  },
  "language_info": {
   "codemirror_mode": {
    "name": "ipython",
    "version": 3
   },
   "file_extension": ".py",
   "mimetype": "text/x-python",
   "name": "python",
   "nbconvert_exporter": "python",
   "pygments_lexer": "ipython3",
   "version": "3.9.12"
  }
 },
 "nbformat": 4,
 "nbformat_minor": 5
}
