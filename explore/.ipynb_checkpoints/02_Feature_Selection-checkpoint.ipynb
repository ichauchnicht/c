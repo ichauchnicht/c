{
 "cells": [
  {
   "cell_type": "code",
   "execution_count": 3,
   "id": "6b44b410",
   "metadata": {},
   "outputs": [
    {
     "name": "stdout",
     "output_type": "stream",
     "text": [
      "The autoreload extension is already loaded. To reload it, use:\n",
      "  %reload_ext autoreload\n"
     ]
    }
   ],
   "source": [
    "%load_ext autoreload\n",
    "%autoreload 2\n",
    "import sys  \n",
    "from sklearn.feature_selection import SelectKBest, chi2\n",
    "from sklearn.feature_selection import f_classif\n",
    "\n",
    "\n",
    "import matplotlib.pyplot as plt\n",
    "sys.path.insert(0, 'D:/code/creon') #change to the root folder of this project\n",
    "import utils, prepare_data"
   ]
  },
  {
   "cell_type": "code",
   "execution_count": 4,
   "id": "02aae847",
   "metadata": {},
   "outputs": [
    {
     "name": "stdout",
     "output_type": "stream",
     "text": [
      "data cleaning done\n"
     ]
    }
   ],
   "source": [
    "path =r\"D:\\assigments\\2023_06_30_creon\\Employee-attrition.csv\" #change this to the location of your input file\n",
    "\n",
    "p = prepare_data.PrepareData(path)\n",
    "\n",
    "X_train, X_test, y_train, y_test = p.get_train_test_split( )"
   ]
  },
  {
   "cell_type": "code",
   "execution_count": 5,
   "id": "d7ba87e4",
   "metadata": {},
   "outputs": [
    {
     "name": "stdout",
     "output_type": "stream",
     "text": [
      "Feature 0 (Age): 63.54367144818947\n",
      "Feature 1 (Attrition): 0.061623310469462136\n",
      "Feature 2 (BusinessTravel): 246.41807508492434\n",
      "Feature 3 (DailyRate): 1.3532228193655083\n",
      "Feature 4 (Department): 33.30121497002626\n",
      "Feature 5 (DistanceFromHome): 0.0959233368413631\n",
      "Feature 6 (Education): 2.268217154107932\n",
      "Feature 7 (EducationField): 2.87819818514847\n",
      "Feature 8 (EnvironmentSatisfaction): 0.327267130365953\n",
      "Feature 9 (Gender): 0.04207089281990494\n",
      "Feature 10 (HourlyRate): 3.5933107496619914\n",
      "Feature 11 (JobInvolvement): 18.104804872507117\n",
      "Feature 12 (JobLevel): 11.715917003202897\n",
      "Feature 13 (JobRole): 4.043386747088664\n",
      "Feature 14 (JobSatisfaction): 20.954235958926713\n",
      "Feature 15 (MaritalStatus): 97926.49845249139\n",
      "Feature 16 (MonthlyIncome): 184.23988354928352\n",
      "Feature 17 (MonthlyRate): 8.3363554749036\n",
      "Feature 18 (NumCompaniesWorked): 51.847597750450284\n",
      "Feature 19 (OverTime): 0.0323830919555023\n",
      "Feature 20 (PercentSalaryHike): 0.022472524593412896\n",
      "Feature 21 (PerformanceRating): 0.7965452264518931\n",
      "Feature 22 (RelationshipSatisfaction): 21.92506937562237\n",
      "Feature 23 (StockOptionLevel): 202.92673436875305\n",
      "Feature 24 (TotalWorkingYears): 1.3520724508003836\n",
      "Feature 25 (TrainingTimesLastYear): 0.5836275346167279\n",
      "Feature 26 (WorkLifeBalance): 112.3950928857424\n",
      "Feature 27 (YearsAtCompany): 102.35581139702178\n",
      "Feature 28 (YearsInCurrentRole): 12.521201200977321\n",
      "Feature 29 (YearsSinceLastPromotion): 77.68551286171912\n"
     ]
    },
    {
     "data": {
      "image/png": "[encoded data removed]",
      "text/plain": [
       "<Figure size 432x288 with 1 Axes>"
      ]
     },
     "metadata": {
      "needs_background": "light"
     },
     "output_type": "display_data"
    }
   ],
   "source": [
    "fs = SelectKBest(score_func=chi2, k='all')\n",
    "fs.fit(X_train, y_train)\n",
    "X_train_fs = fs.transform(X_train)\n",
    "X_test_fs = fs.transform(X_test)\n",
    "\n",
    "# what are scores for the features\n",
    "col_names = p.get_column_names()\n",
    "for i in range(len(fs.scores_)):\n",
    "    print(f'Feature {i} ({col_names[i]}): {fs.scores_[i]}')\n",
    "# plot the scores\n",
    "plt.bar([i for i in range(len(fs.scores_))], fs.scores_)\n",
    "plt.title('Feature scores with chi2')\n",
    "plt.show()"
   ]
  },
  {
   "cell_type": "code",
   "execution_count": 6,
   "id": "2ec713ff",
   "metadata": {},
   "outputs": [
    {
     "name": "stdout",
     "output_type": "stream",
     "text": [
      "Feature 0 (Age): 28.14001954824914\n",
      "Feature 1 (Attrition): 0.22218475529254583\n",
      "Feature 2 (BusinessTravel): 1.1756129300868818\n",
      "Feature 3 (DailyRate): 6.296479077826342\n",
      "Feature 4 (Department): 4.649507141853652\n",
      "Feature 5 (DistanceFromHome): 0.2511051118686132\n",
      "Feature 6 (Education): 2.951607684489617\n",
      "Feature 7 (EducationField): 6.43184206431379\n",
      "Feature 8 (EnvironmentSatisfaction): 0.8122276197517855\n",
      "Feature 9 (Gender): 0.006804295864690857\n",
      "Feature 10 (HourlyRate): 19.979153979665423\n",
      "Feature 11 (JobInvolvement): 30.413398537932355\n",
      "Feature 12 (JobLevel): 8.770150069440811\n",
      "Feature 13 (JobRole): 9.128314323273758\n",
      "Feature 14 (JobSatisfaction): 44.92743561326948\n",
      "Feature 15 (MaritalStatus): 28.208204497796665\n",
      "Feature 16 (MonthlyIncome): 0.052603561468675994\n",
      "Feature 17 (MonthlyRate): 3.5607662819974704\n",
      "Feature 18 (NumCompaniesWorked): 78.67442168793644\n",
      "Feature 19 (OverTime): 0.037210742994052484\n",
      "Feature 20 (PercentSalaryHike): 0.5365413698012825\n",
      "Feature 21 (PerformanceRating): 1.8387954092852161\n",
      "Feature 22 (RelationshipSatisfaction): 23.795459587848487\n",
      "Feature 23 (StockOptionLevel): 38.249862974616974\n",
      "Feature 24 (TotalWorkingYears): 2.2953061376858823\n",
      "Feature 25 (TrainingTimesLastYear): 3.3238458474547525\n",
      "Feature 26 (WorkLifeBalance): 21.901268439204173\n",
      "Feature 27 (YearsAtCompany): 33.498784049066124\n",
      "Feature 28 (YearsInCurrentRole): 2.8096696892952995\n",
      "Feature 29 (YearsSinceLastPromotion): 25.71434553242972\n"
     ]
    },
    {
     "data": {
      "image/png": "[encoded data removed]",
      "text/plain": [
       "<Figure size 432x288 with 1 Axes>"
      ]
     },
     "metadata": {
      "needs_background": "light"
     },
     "output_type": "display_data"
    }
   ],
   "source": [
    "fs = SelectKBest(score_func=f_classif, k='all')\n",
    "fs.fit(X_train, y_train)\n",
    "X_train_fs = fs.transform(X_train)\n",
    "X_test_fs = fs.transform(X_test)\n",
    "\n",
    "# what are scores for the features\n",
    "col_names = p.get_column_names()\n",
    "for i in range(len(fs.scores_)):\n",
    "    print(f'Feature {i} ({col_names[i]}): {fs.scores_[i]}')\n",
    "# plot the scores\n",
    "plt.bar([i for i in range(len(fs.scores_))], fs.scores_)\n",
    "plt.title('Feature scores with f_classif')\n",
    "plt.show()"
   ]
  },
  {
   "cell_type": "code",
   "execution_count": null,
   "id": "ee8a30b5",
   "metadata": {},
   "outputs": [],
   "source": []
  }
 ],
 "metadata": {
  "kernelspec": {
   "display_name": "Python 3 (ipykernel)",
   "language": "python",
   "name": "python3"
  },
  "language_info": {
   "codemirror_mode": {
    "name": "ipython",
    "version": 3
   },
   "file_extension": ".py",
   "mimetype": "text/x-python",
   "name": "python",
   "nbconvert_exporter": "python",
   "pygments_lexer": "ipython3",
   "version": "3.9.12"
  }
 },
 "nbformat": 4,
 "nbformat_minor": 5
}
